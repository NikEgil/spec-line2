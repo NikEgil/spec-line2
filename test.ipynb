{
 "cells": [
  {
   "cell_type": "code",
   "execution_count": 8,
   "metadata": {},
   "outputs": [
    {
     "name": "stdout",
     "output_type": "stream",
     "text": [
      "C:/Users/Nik/Desktop/prog/только rmr\n",
      "['15' '16' '17' '18' '19' '20' '25' '26' '27' '28' '29' '30' '31']\n"
     ]
    }
   ],
   "source": [
    "import os\n",
    "import numpy as np\n",
    "from natsort import natsorted\n",
    "\n",
    "main_folder = r\"C:\\Users\\Nik\\Desktop\\prog\\только rmr\"\n",
    "main_folder = main_folder.replace(chr(92), \"/\")\n",
    "folders_list = np.array(natsorted(os.listdir(main_folder)))\n",
    "current_folder = \"\"\n",
    "print(main_folder)\n",
    "print(folders_list)"
   ]
  },
  {
   "cell_type": "code",
   "execution_count": null,
   "metadata": {},
   "outputs": [],
   "source": []
  }
 ],
 "metadata": {
  "kernelspec": {
   "display_name": "Python 3",
   "language": "python",
   "name": "python3"
  },
  "language_info": {
   "codemirror_mode": {
    "name": "ipython",
    "version": 3
   },
   "file_extension": ".py",
   "mimetype": "text/x-python",
   "name": "python",
   "nbconvert_exporter": "python",
   "pygments_lexer": "ipython3",
   "version": "3.11.5"
  }
 },
 "nbformat": 4,
 "nbformat_minor": 2
}
